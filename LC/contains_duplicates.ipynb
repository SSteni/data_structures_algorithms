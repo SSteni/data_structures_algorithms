{
 "cells": [
  {
   "cell_type": "markdown",
   "id": "ddf0fb3a-27d3-45fc-a436-4060f98fec55",
   "metadata": {},
   "source": [
    "Given an integer array nums, return true if any value appears at least twice in the array, and return false if every element is distinct.\n",
    "\n",
    "#### Using Sorting (O(nlogn) complexity)"
   ]
  },
  {
   "cell_type": "code",
   "execution_count": 10,
   "id": "c27d11b9-9dcb-48e1-b364-f6ac2c58e5fc",
   "metadata": {},
   "outputs": [],
   "source": [
    "nums = [1,2,3,1]\n",
    "\n",
    "def contains_duplicates(nums):\n",
    "    nums.sort()\n",
    "    for i in range(1,len(nums)):\n",
    "        if nums[i] == nums[i-1]:\n",
    "            print(nums[i],nums[i-1])\n",
    "            return True\n",
    "        return False"
   ]
  },
  {
   "cell_type": "code",
   "execution_count": 14,
   "id": "405aa67e-f310-41f9-93fa-71655911064c",
   "metadata": {},
   "outputs": [
    {
     "name": "stdout",
     "output_type": "stream",
     "text": [
      "range(1, 4)\n"
     ]
    }
   ],
   "source": [
    "print(range(1,len(nums)))"
   ]
  },
  {
   "cell_type": "code",
   "execution_count": 11,
   "id": "307594a6-fbba-4542-b5da-cec48d41287a",
   "metadata": {},
   "outputs": [
    {
     "name": "stdout",
     "output_type": "stream",
     "text": [
      "1 1\n"
     ]
    },
    {
     "data": {
      "text/plain": [
       "True"
      ]
     },
     "execution_count": 11,
     "metadata": {},
     "output_type": "execute_result"
    }
   ],
   "source": [
    "contains_duplicates(nums)"
   ]
  },
  {
   "cell_type": "markdown",
   "id": "fada84a2-e771-4fbb-81fd-e238afb6c876",
   "metadata": {},
   "source": [
    "#### Complexity Analysis\n",
    "\n",
    "If we sort the array (which will require O(N LogN)), then we can do a linear scan to check the two consecutive elements to find out if there are duplicates. The overall time complexity is improved to O(N LogN) and we are still using the O(1) constant space."
   ]
  },
  {
   "cell_type": "markdown",
   "id": "a9117a14-49b7-49c6-8915-9788724d1061",
   "metadata": {},
   "source": [
    "#### Approach 2"
   ]
  },
  {
   "cell_type": "code",
   "execution_count": 28,
   "id": "e0399da9-1174-4a4f-9c62-7547718cd075",
   "metadata": {},
   "outputs": [],
   "source": [
    "nums = [1,2,3,1]\n",
    "def cont_dupes(nums):\n",
    "    data = set()\n",
    "    for i in nums:\n",
    "        if i in data:\n",
    "            return True\n",
    "        data.add(i)\n",
    "    return False"
   ]
  },
  {
   "cell_type": "code",
   "execution_count": 29,
   "id": "7ed83358-31d0-4f65-94f4-399d22183059",
   "metadata": {},
   "outputs": [
    {
     "data": {
      "text/plain": [
       "True"
      ]
     },
     "execution_count": 29,
     "metadata": {},
     "output_type": "execute_result"
    }
   ],
   "source": [
    "cont_dupes(nums)"
   ]
  },
  {
   "cell_type": "markdown",
   "id": "e8763dd6-cabf-49e0-b885-bf35fe15bad6",
   "metadata": {},
   "source": [
    "##### Complexity (O(N))\n",
    "\n",
    "Further optimisation can be done via using a Hash Set. The complexity will be O(N) as we only need to conduct a linear scan. However, the space requirement is O(N) as we are using a Hash Set that complexity grows linear with the data set."
   ]
  }
 ],
 "metadata": {
  "kernelspec": {
   "display_name": "Python 3 (ipykernel)",
   "language": "python",
   "name": "python3"
  },
  "language_info": {
   "codemirror_mode": {
    "name": "ipython",
    "version": 3
   },
   "file_extension": ".py",
   "mimetype": "text/x-python",
   "name": "python",
   "nbconvert_exporter": "python",
   "pygments_lexer": "ipython3",
   "version": "3.9.12"
  }
 },
 "nbformat": 4,
 "nbformat_minor": 5
}
