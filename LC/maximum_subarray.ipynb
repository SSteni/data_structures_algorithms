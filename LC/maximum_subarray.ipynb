{
 "cells": [
  {
   "cell_type": "markdown",
   "id": "1dd5e715-24ae-46be-a2af-306ff7a525a8",
   "metadata": {},
   "source": [
    "Given an integer array nums, find the contiguous subarray (containing at least one number) which has the largest sum and return its sum.\n",
    "\n",
    "A subarray is a contiguous part of an array."
   ]
  },
  {
   "cell_type": "markdown",
   "id": "52b0b22e-5d8d-4caa-bde3-cb52294a11dd",
   "metadata": {},
   "source": [
    "#### We can solve this problem using dynamic programming"
   ]
  },
  {
   "cell_type": "code",
   "execution_count": 8,
   "id": "c5de8067-61ff-4b1f-bb7b-b610788d16c1",
   "metadata": {},
   "outputs": [],
   "source": [
    "def maxSubArraysum(a,size):\n",
    "    \n",
    "    max_so_far = a[0]\n",
    "    curr_max = a[0]\n",
    "    \n",
    "    for i in range(1,size):\n",
    "        curr_max = max(a[i], curr_max + a[i])\n",
    "        print(\"-------\",curr_max)\n",
    "        max_so_far = max(max_so_far,curr_max)\n",
    "        print(\"=========\",max_so_far)\n",
    "    return max_so_far"
   ]
  },
  {
   "cell_type": "code",
   "execution_count": 9,
   "id": "942524f4-c11e-454c-8747-ad121f6d9630",
   "metadata": {},
   "outputs": [
    {
     "name": "stdout",
     "output_type": "stream",
     "text": [
      "------- -3\n",
      "========= -2\n",
      "------- 4\n",
      "========= 4\n",
      "------- 3\n",
      "========= 4\n",
      "------- 1\n",
      "========= 4\n",
      "------- 2\n",
      "========= 4\n",
      "------- 7\n",
      "========= 7\n",
      "------- 4\n",
      "========= 7\n",
      "Maximum contiguous sum is 7\n"
     ]
    }
   ],
   "source": [
    "# Driver function to check the above function\n",
    "a = [-2, -3, 4, -1, -2, 1, 5, -3]\n",
    "print(\"Maximum contiguous sum is\" , maxSubArraysum(a,len(a)))"
   ]
  },
  {
   "cell_type": "markdown",
   "id": "b6a07aea-6ef4-4cd0-8458-707bd93069d4",
   "metadata": {},
   "source": [
    "### Complexity Analysis\n",
    "\n",
    "* Time complexity: O(n), where n is the size of the array.\n",
    "* Auxiliary Space: O(1)"
   ]
  }
 ],
 "metadata": {
  "kernelspec": {
   "display_name": "Python 3 (ipykernel)",
   "language": "python",
   "name": "python3"
  },
  "language_info": {
   "codemirror_mode": {
    "name": "ipython",
    "version": 3
   },
   "file_extension": ".py",
   "mimetype": "text/x-python",
   "name": "python",
   "nbconvert_exporter": "python",
   "pygments_lexer": "ipython3",
   "version": "3.9.12"
  }
 },
 "nbformat": 4,
 "nbformat_minor": 5
}
