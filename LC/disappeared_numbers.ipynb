{
 "cells": [
  {
   "cell_type": "markdown",
   "id": "6e0c87d2-91aa-492a-b08d-84536beb7e9c",
   "metadata": {},
   "source": [
    "Given an array nums of n integers where nums[i] is in the range [1, n], return an array of all the integers in the range [1, n] that do not appear in nums."
   ]
  },
  {
   "cell_type": "code",
   "execution_count": 4,
   "id": "e4b2de46-e79f-4b8a-bef3-2c54d6c0c601",
   "metadata": {},
   "outputs": [],
   "source": [
    "def disappeared_nums(nums):\n",
    "    set1 = {i for i in range(1, len(nums)+1)}\n",
    "    print(set1)\n",
    "    set2 = set(nums)\n",
    "    print(set2)\n",
    "    return list(set1.difference(set2))"
   ]
  },
  {
   "cell_type": "code",
   "execution_count": 5,
   "id": "7e49289c-2df7-4af7-a71f-c2dd4d5213fd",
   "metadata": {},
   "outputs": [
    {
     "name": "stdout",
     "output_type": "stream",
     "text": [
      "{1, 2, 3, 4, 5, 6, 7, 8}\n",
      "{1, 2, 3, 4, 7, 8}\n"
     ]
    },
    {
     "data": {
      "text/plain": [
       "[5, 6]"
      ]
     },
     "execution_count": 5,
     "metadata": {},
     "output_type": "execute_result"
    }
   ],
   "source": [
    "nums = [4,3,2,7,8,2,3,1]\n",
    "\n",
    "disappeared_nums(nums)"
   ]
  },
  {
   "cell_type": "markdown",
   "id": "33957303-0b1c-4536-b774-dab8769174b0",
   "metadata": {},
   "source": [
    "O(N) complexity"
   ]
  },
  {
   "cell_type": "code",
   "execution_count": null,
   "id": "454fb50a-edb3-47e3-926c-7948c836de87",
   "metadata": {},
   "outputs": [],
   "source": []
  },
  {
   "cell_type": "code",
   "execution_count": null,
   "id": "2f29e5da-585e-4cc5-9dd8-12d94e8ca55d",
   "metadata": {},
   "outputs": [],
   "source": []
  }
 ],
 "metadata": {
  "kernelspec": {
   "display_name": "Python 3 (ipykernel)",
   "language": "python",
   "name": "python3"
  },
  "language_info": {
   "codemirror_mode": {
    "name": "ipython",
    "version": 3
   },
   "file_extension": ".py",
   "mimetype": "text/x-python",
   "name": "python",
   "nbconvert_exporter": "python",
   "pygments_lexer": "ipython3",
   "version": "3.9.12"
  }
 },
 "nbformat": 4,
 "nbformat_minor": 5
}
