{
 "cells": [
  {
   "cell_type": "markdown",
   "id": "36bc9982-2f2e-410b-9959-0303c52862a1",
   "metadata": {},
   "source": [
    "You are climbing a staircase. It takes n steps to reach the top.\n",
    "\n",
    "Each time you can either climb 1 or 2 steps. In how many distinct ways can you climb to the top?"
   ]
  },
  {
   "cell_type": "markdown",
   "id": "76b7d63f-f486-4d45-ab28-4c8d5e199f3e",
   "metadata": {},
   "source": [
    "##### Approach 1\n",
    "\n",
    "This can be solved using Fubonacci series method"
   ]
  },
  {
   "cell_type": "code",
   "execution_count": 2,
   "id": "dc95b8c4-6d40-4674-9cb5-7951b57582f2",
   "metadata": {},
   "outputs": [],
   "source": [
    "def fib_series(n):\n",
    "    if n<=1:\n",
    "        return 1\n",
    "    return fib(n-1) + fib(n-2)"
   ]
  },
  {
   "cell_type": "code",
   "execution_count": 9,
   "id": "a5e6f77e-785d-4aab-976f-fef01211c1f0",
   "metadata": {},
   "outputs": [
    {
     "name": "stdout",
     "output_type": "stream",
     "text": [
      "Number of ways = \n",
      "5\n"
     ]
    }
   ],
   "source": [
    "def fib(n):\n",
    "    if n <= 1:\n",
    "        return n\n",
    "    return fib(n-1) + fib(n-2)\n",
    " \n",
    "# Returns no. of ways to\n",
    "# reach sth stair\n",
    "def countWays(s):\n",
    "    return fib(s + 1)\n",
    " \n",
    "# Driver program\n",
    "s = 4\n",
    "print(\"Number of ways = \",)\n",
    "print(countWays(s))"
   ]
  },
  {
   "cell_type": "code",
   "execution_count": 10,
   "id": "fdfb119e-b5f9-4faa-8c13-4469f4d5bc51",
   "metadata": {},
   "outputs": [
    {
     "name": "stdout",
     "output_type": "stream",
     "text": [
      "3\n"
     ]
    }
   ],
   "source": [
    "n=4\n",
    "if n<=1:\n",
    "    print(n)\n",
    "else:\n",
    "    print(fib(n-1) + fib(n-2))"
   ]
  },
  {
   "cell_type": "code",
   "execution_count": 11,
   "id": "cdc1da6c-a767-45f0-98c2-c99b96a5bfa4",
   "metadata": {},
   "outputs": [
    {
     "data": {
      "text/plain": [
       "2"
      ]
     },
     "execution_count": 11,
     "metadata": {},
     "output_type": "execute_result"
    }
   ],
   "source": [
    "fib(3)"
   ]
  },
  {
   "cell_type": "markdown",
   "id": "0903308f-12f1-48a7-b4f9-d0363e4e7b9d",
   "metadata": {},
   "source": [
    "#### Complexity Analysis: \n",
    "\n",
    "* Time Complexity: O(2^n) \n",
    "The time complexity of the above implementation is exponential (golden ratio raised to power n) due to redundant calculations.It can be optimized to work in O(Logn) time using the previously discussed Fibonacci function optimizations.\n",
    "* Auxiliary Space: O(1)"
   ]
  }
 ],
 "metadata": {
  "kernelspec": {
   "display_name": "Python 3 (ipykernel)",
   "language": "python",
   "name": "python3"
  },
  "language_info": {
   "codemirror_mode": {
    "name": "ipython",
    "version": 3
   },
   "file_extension": ".py",
   "mimetype": "text/x-python",
   "name": "python",
   "nbconvert_exporter": "python",
   "pygments_lexer": "ipython3",
   "version": "3.9.12"
  }
 },
 "nbformat": 4,
 "nbformat_minor": 5
}
