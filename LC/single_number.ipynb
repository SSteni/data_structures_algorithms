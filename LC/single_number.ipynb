{
 "cells": [
  {
   "cell_type": "markdown",
   "id": "f7641239-9134-4ef6-afea-6772166d3d33",
   "metadata": {},
   "source": [
    "Given a non-empty array of integers nums, every element appears twice except for one. Find that single one.\n",
    "\n",
    "You must implement a solution with a linear runtime complexity and use only constant extra space."
   ]
  },
  {
   "cell_type": "code",
   "execution_count": 4,
   "id": "a9c02add-6b85-4c16-8a6c-3e597a616782",
   "metadata": {},
   "outputs": [
    {
     "name": "stdout",
     "output_type": "stream",
     "text": [
      "2\n",
      "1\n",
      "4\n",
      "0\n",
      "5\n",
      "6\n",
      "2\n"
     ]
    },
    {
     "data": {
      "text/plain": [
       "2"
      ]
     },
     "execution_count": 4,
     "metadata": {},
     "output_type": "execute_result"
    }
   ],
   "source": [
    "def findSingle( ar, n):\n",
    "     \n",
    "    res = ar[0]\n",
    "    print(res)\n",
    "     \n",
    "    # Do XOR of all elements and return\n",
    "    for i in range(1,n):\n",
    "        res = res ^ ar[i]\n",
    "        print(res)\n",
    "     \n",
    "    return res\n",
    " \n",
    "# Driver code\n",
    "ar = [2, 3, 5, 4, 5, 3, 4]\n",
    "findSingle(ar,len(ar))"
   ]
  },
  {
   "cell_type": "code",
   "execution_count": 13,
   "id": "343a651e-6605-4ef3-a7c9-5b7c0b429bfb",
   "metadata": {},
   "outputs": [],
   "source": [
    "def singleNumber(nums):\n",
    "    \"\"\"\n",
    "    :type nums: List[int]\n",
    "    :rtype: int\n",
    "    \"\"\"\n",
    "    a = 0\n",
    "    for i in nums:\n",
    "        a ^= i\n",
    "    return a"
   ]
  },
  {
   "cell_type": "code",
   "execution_count": 15,
   "id": "06bc0a2c-6301-44e9-bed2-0636a64ac8cf",
   "metadata": {},
   "outputs": [
    {
     "data": {
      "text/plain": [
       "2"
      ]
     },
     "execution_count": 15,
     "metadata": {},
     "output_type": "execute_result"
    }
   ],
   "source": [
    "singleNumber(ar)"
   ]
  },
  {
   "cell_type": "markdown",
   "id": "98813e00-0c57-4d10-8d53-6108e8cf938e",
   "metadata": {},
   "source": [
    "### Complexity Analysis\n",
    "\n",
    "* Time complexity : O(n). We only iterate through numsnums, so the time complexity is the number of elements in numsnums.\n",
    "* Space complexity : O(1).\n"
   ]
  },
  {
   "cell_type": "code",
   "execution_count": 12,
   "id": "3ba2ad34-3860-432d-97fc-b65c41fe02e2",
   "metadata": {},
   "outputs": [
    {
     "name": "stdout",
     "output_type": "stream",
     "text": [
      "6\n"
     ]
    }
   ],
   "source": [
    "a=  5  #0101\n",
    "b = 3  #0011\n",
    "\n",
    "result= (a ^ b) #0110\n",
    "\n",
    "print(result)\n",
    "\n",
    "# Output\n",
    "# 6 (0110)"
   ]
  }
 ],
 "metadata": {
  "kernelspec": {
   "display_name": "Python 3 (ipykernel)",
   "language": "python",
   "name": "python3"
  },
  "language_info": {
   "codemirror_mode": {
    "name": "ipython",
    "version": 3
   },
   "file_extension": ".py",
   "mimetype": "text/x-python",
   "name": "python",
   "nbconvert_exporter": "python",
   "pygments_lexer": "ipython3",
   "version": "3.9.12"
  }
 },
 "nbformat": 4,
 "nbformat_minor": 5
}
