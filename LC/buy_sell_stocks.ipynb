{
 "cells": [
  {
   "cell_type": "markdown",
   "id": "ffb0e720-e8b7-4ca1-beb3-f4076c001fcc",
   "metadata": {},
   "source": [
    "You are given an array prices where prices[i] is the price of a given stock on the ith day.\n",
    "\n",
    "You want to maximize your profit by choosing a single day to buy one stock and choosing a different day in the future to sell that stock.\n",
    "\n",
    "Return the maximum profit you can achieve from this transaction. If you cannot achieve any profit, return 0."
   ]
  },
  {
   "cell_type": "code",
   "execution_count": 2,
   "id": "fe6cf033-35bf-4867-acf8-eba01e4d02aa",
   "metadata": {},
   "outputs": [],
   "source": [
    "def max_profit(prices:list, days:int) -> int:\n",
    "    profit = 0\n",
    "    for i in range(1, days):\n",
    "        if prices[i] > prices[i-1]:\n",
    "            profit += prices[i] - prices[i-1]\n",
    "    return profit"
   ]
  },
  {
   "cell_type": "code",
   "execution_count": 5,
   "id": "0de77c21-e697-4e84-ad67-a06fa767ccad",
   "metadata": {},
   "outputs": [
    {
     "name": "stdout",
     "output_type": "stream",
     "text": [
      "865\n"
     ]
    }
   ],
   "source": [
    "if __name__ == '__main__':\n",
    "    prices = [100, 180, 260, 310, 40, 535, 695]\n",
    "    profit = max_profit(prices, len(prices))\n",
    "    print(profit)"
   ]
  },
  {
   "cell_type": "markdown",
   "id": "7ca6835b-f3fe-4740-8c7d-ff640a65b4cd",
   "metadata": {},
   "source": [
    "* Time Complexity: O(n)\n",
    "* Auxiliary Space: O(1)"
   ]
  }
 ],
 "metadata": {
  "kernelspec": {
   "display_name": "Python 3 (ipykernel)",
   "language": "python",
   "name": "python3"
  },
  "language_info": {
   "codemirror_mode": {
    "name": "ipython",
    "version": 3
   },
   "file_extension": ".py",
   "mimetype": "text/x-python",
   "name": "python",
   "nbconvert_exporter": "python",
   "pygments_lexer": "ipython3",
   "version": "3.9.12"
  }
 },
 "nbformat": 4,
 "nbformat_minor": 5
}
