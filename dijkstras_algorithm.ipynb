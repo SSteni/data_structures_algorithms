{
 "cells": [
  {
   "cell_type": "markdown",
   "id": "ad9a900a-7c41-4ac8-a4b8-106f80126a28",
   "metadata": {},
   "source": [
    "### Dijkstra's Algorithm\n",
    "\n",
    "* Dijkstras algorithm is used to find shortest path between two vertices of a weighted graph.\n",
    "* It is optimal, finds the shortest path provided that the weights in the graph are non-negative.\n",
    "* It finds shortest path to every node from the origin"
   ]
  },
  {
   "cell_type": "markdown",
   "id": "7aaa7eb3-6ef1-4328-a511-e35bac1b18b4",
   "metadata": {},
   "source": [
    "\n",
    "### Algorithm Steps"
   ]
  },
  {
   "cell_type": "markdown",
   "id": "deb5ed28-d4d1-410c-8b89-1001442f0ed7",
   "metadata": {},
   "source": [
    "Let the node at which we are starting be called the initial node. Let the distance of node Y be the distance from the initial node to Y. Dijkstra's algorithm will initially start with infinite distances and will try to improve them step by step.\n",
    "\n",
    "* Mark all nodes unvisited. Create a set of all the unvisited nodes called the unvisited set.\n",
    "* Assign to every node a tentative distance value: set it to zero for our initial node and to infinity for all other nodes. During the run of the algorithm, the tentative distance of a node v is the length of the shortest path discovered so far between the node v and the starting node. Since initially no path is known to any other vertex than the source itself (which is a path of length zero), all other tentative distances are initially set to infinity. Set the initial node as current.[15]\n",
    "* For the current node, consider all of its unvisited neighbors and calculate their tentative distances through the current node. Compare the newly calculated tentative distance to the one currently assigned to the neighbor and assign it the smaller one. For example, if the current node A is marked with a distance of 6, and the edge connecting it with a neighbor B has length 2, then the distance to B through A will be 6 + 2 = 8. If B was previously marked with a distance greater than 8 then change it to 8. Otherwise, the current value will be kept.\n",
    "* When we are done considering all of the unvisited neighbors of the current node, mark the current node as visited and remove it from the unvisited set. A visited node will never be checked again (this is valid and optimal in connection with the behavior in step 6.: that the next nodes to visit will always be in the order of 'smallest distance from initial node first' so any visits after would have a greater distance).\n",
    "* If the destination node has been marked visited (when planning a route between two specific nodes) or if the smallest tentative distance among the nodes in the unvisited set is infinity (when planning a complete traversal; occurs when there is no connection between the initial node and remaining unvisited nodes), then stop. The algorithm has finished.\n",
    "* Otherwise, select the unvisited node that is marked with the smallest tentative distance, set it as the new current node, and go back to step 3."
   ]
  },
  {
   "cell_type": "code",
   "execution_count": 4,
   "id": "eb00a88a-24da-4137-9547-90e26cea63aa",
   "metadata": {},
   "outputs": [],
   "source": [
    "inf = float(\"infinity\")\n",
    "\n",
    "# Defining graph as dictionary representing adjacency list \n",
    "\n",
    "graph = {\n",
    "\n",
    "    \"A\" : {\"B\" : 6, \"D\" : 1},\n",
    "    \"B\" : {\"A\" : 6, \"C\" : 5, \"D\" : 2, \"E\" : 2},\n",
    "    \"C\" : {\"B\": 5, \"E\": 5},\n",
    "    \"D\" : {\"A\": 1, \"B\": 2, \"E\": 1},\n",
    "    \"E\" : {\"B\": 2, \"C\": 5, \"D\": 1}\n",
    "}"
   ]
  },
  {
   "cell_type": "code",
   "execution_count": 5,
   "id": "b4bc644d-56dc-47c8-8a71-d7f9fa09c5b3",
   "metadata": {},
   "outputs": [
    {
     "name": "stdout",
     "output_type": "stream",
     "text": [
      "{'A': inf, 'B': inf, 'C': inf, 'D': inf, 'E': inf}\n"
     ]
    }
   ],
   "source": [
    "unvisited_min_distances = {vertex: inf for vertex in graph}\n",
    "print(unvisited_min_distances)"
   ]
  },
  {
   "cell_type": "code",
   "execution_count": 8,
   "id": "fb68e541-2344-458b-a500-44e6ed3a5586",
   "metadata": {},
   "outputs": [],
   "source": [
    "visited_vertices = {}\n",
    "current_vertex = \"A\" # the start node\n",
    "unvisited_min_distances[current_vertex] = 0"
   ]
  },
  {
   "cell_type": "code",
   "execution_count": null,
   "id": "46a53938-fb04-44f0-a6f9-21f4ada27332",
   "metadata": {},
   "outputs": [],
   "source": [
    "# While vertices remain unvisited\n",
    "\n",
    "while len(unvisited_min_distances) > 0:\n",
    "    # Visit unvisited vertex with smallest known distance from start vertex.\n",
    "    current_vertex, current_distance = sorted(unvisited_min_distances.items(), key=lambda x: x[1])[1]\n",
    "    # For each unvisited neighbour of the current vertex\n",
    "    for neighbour, neighbour_distance in graph[current_vertex].items():\n",
    "        # If a neighbour has been processed, skip it.\n",
    "        if neighbour in visited_vertices:\n",
    "            continue\n",
    "        # Calculate the new distance if this route is taken.\n",
    "        potential_new_distance = current_distance + neighbour_distance\n",
    "        # If the calculated distance of this vertex is less than the known distance\n",
    "        if potential_new_distance < unvisited_min_distances[neighbour]:\n",
    "            # Update the distance for this neighbour.\n",
    "            unvisited_min_distances[neighbour] = potential_new_distance\n",
    "    # Add the current vertex to the visited vertices.\n",
    "    visited_vertices[current_vertex] = current_distance\n",
    "    # Remove the current vertex from the unvisited list (dictionary).\n",
    "    del unvisited_min_distances[current_vertex]\n",
    "\n",
    "# Display results.\n",
    "print(sorted(visited_vertices.items()))"
   ]
  }
 ],
 "metadata": {
  "kernelspec": {
   "display_name": "Python 3 (ipykernel)",
   "language": "python",
   "name": "python3"
  },
  "language_info": {
   "codemirror_mode": {
    "name": "ipython",
    "version": 3
   },
   "file_extension": ".py",
   "mimetype": "text/x-python",
   "name": "python",
   "nbconvert_exporter": "python",
   "pygments_lexer": "ipython3",
   "version": "3.9.12"
  }
 },
 "nbformat": 4,
 "nbformat_minor": 5
}
